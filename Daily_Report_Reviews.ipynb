{
 "cells": [
  {
   "cell_type": "code",
   "execution_count": 10,
   "id": "71fac076",
   "metadata": {},
   "outputs": [
    {
     "name": "stdout",
     "output_type": "stream",
     "text": [
      "✅ Processing complete. Check 'Output_DailyReportReview.xlsx' for results.\n"
     ]
    }
   ],
   "source": [
    "import pandas as pd\n",
    "\n",
    "# Load the Excel file\n",
    "file_path = \"Candidate_Task_DailyReports.xlsx\"   # keep file in same folder as script\n",
    "df = pd.read_excel(file_path)\n",
    "\n",
    "# Convert Date column to datetime and sort\n",
    "df['Date'] = pd.to_datetime(df['Date'])\n",
    "df = df.sort_values(by=['Employee', 'Task', 'Date'])\n",
    "\n",
    "# Filter only tasks marked as \"Not Done\"\n",
    "missed = df[df['Status'] == 'Not Done']\n",
    "\n",
    "output = []\n",
    "\n",
    "# Group by Employee & Task\n",
    "for (emp, task), group in missed.groupby(['Employee', 'Task']):\n",
    "    group = group.sort_values('Date')\n",
    "    dates = group['Date'].dt.strftime('%Y-%m-%d').tolist()\n",
    "\n",
    "    # Detect consecutive missed days\n",
    "    consecutive = []\n",
    "    temp = [dates[0]]\n",
    "\n",
    "    for i in range(1, len(dates)):\n",
    "        prev = pd.to_datetime(dates[i-1])\n",
    "        curr = pd.to_datetime(dates[i])\n",
    "        if (curr - prev).days == 1:  # consecutive\n",
    "            temp.append(dates[i])\n",
    "        else:\n",
    "            consecutive.append(temp)\n",
    "            temp = [dates[i]]\n",
    "    consecutive.append(temp)\n",
    "\n",
    "    # Add results\n",
    "    for seq in consecutive:\n",
    "        if len(seq) == 1:\n",
    "            action = \"Follow-up\"\n",
    "        else:\n",
    "            action = \"Escalate\"\n",
    "        output.append([emp, task, \", \".join(seq), action])\n",
    "\n",
    "# Create final output table\n",
    "result = pd.DataFrame(output, columns=['Employee', 'Task', 'Date(s) Missed', 'Action'])\n",
    "\n",
    "# Save results to Excel\n",
    "result.to_excel(\"Output_DailyReportReview_By_Shahnawaz.xlsx\", index=False)\n",
    "\n",
    "print(\"✅ Processing complete. Check 'Output_DailyReportReview.xlsx' for results.\")"
   ]
  },
  {
   "cell_type": "code",
   "execution_count": 11,
   "id": "d78e7975",
   "metadata": {},
   "outputs": [
    {
     "data": {
      "text/html": [
       "<div>\n",
       "<style scoped>\n",
       "    .dataframe tbody tr th:only-of-type {\n",
       "        vertical-align: middle;\n",
       "    }\n",
       "\n",
       "    .dataframe tbody tr th {\n",
       "        vertical-align: top;\n",
       "    }\n",
       "\n",
       "    .dataframe thead th {\n",
       "        text-align: right;\n",
       "    }\n",
       "</style>\n",
       "<table border=\"1\" class=\"dataframe\">\n",
       "  <thead>\n",
       "    <tr style=\"text-align: right;\">\n",
       "      <th></th>\n",
       "      <th>Employee</th>\n",
       "      <th>Task</th>\n",
       "      <th>Date(s) Missed</th>\n",
       "      <th>Action</th>\n",
       "    </tr>\n",
       "  </thead>\n",
       "  <tbody>\n",
       "    <tr>\n",
       "      <th>0</th>\n",
       "      <td>Alice</td>\n",
       "      <td>Send Daily Sales Report</td>\n",
       "      <td>2025-07-02, 2025-07-03</td>\n",
       "      <td>Escalate</td>\n",
       "    </tr>\n",
       "    <tr>\n",
       "      <th>1</th>\n",
       "      <td>Bob</td>\n",
       "      <td>Resolve High Priority Ticket</td>\n",
       "      <td>2025-07-01, 2025-07-02</td>\n",
       "      <td>Escalate</td>\n",
       "    </tr>\n",
       "  </tbody>\n",
       "</table>\n",
       "</div>"
      ],
      "text/plain": [
       "  Employee                          Task          Date(s) Missed    Action\n",
       "0    Alice       Send Daily Sales Report  2025-07-02, 2025-07-03  Escalate\n",
       "1      Bob  Resolve High Priority Ticket  2025-07-01, 2025-07-02  Escalate"
      ]
     },
     "execution_count": 11,
     "metadata": {},
     "output_type": "execute_result"
    }
   ],
   "source": [
    "output_df = pd.read_excel(\"Output_DailyReportReview_By_Shahnawaz.xlsx\")\n",
    "output_df.head(10)"
   ]
  },
  {
   "cell_type": "code",
   "execution_count": null,
   "id": "05c8ddd8",
   "metadata": {},
   "outputs": [],
   "source": []
  }
 ],
 "metadata": {
  "kernelspec": {
   "display_name": "Python 3 (ipykernel)",
   "language": "python",
   "name": "python3"
  },
  "language_info": {
   "codemirror_mode": {
    "name": "ipython",
    "version": 3
   },
   "file_extension": ".py",
   "mimetype": "text/x-python",
   "name": "python",
   "nbconvert_exporter": "python",
   "pygments_lexer": "ipython3",
   "version": "3.10.9"
  }
 },
 "nbformat": 4,
 "nbformat_minor": 5
}
